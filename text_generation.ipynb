{
  "cells": [
    {
      "cell_type": "markdown",
      "metadata": {
        "id": "view-in-github",
        "colab_type": "text"
      },
      "source": [
        "<a href=\"https://colab.research.google.com/github/AdnanSakal/Text_Generation/blob/main/text_generation.ipynb\" target=\"_parent\"><img src=\"https://colab.research.google.com/assets/colab-badge.svg\" alt=\"Open In Colab\"/></a>"
      ]
    },
    {
      "cell_type": "code",
      "source": [
        "import tensorflow as tf\n",
        "import matplotlib.pyplot as plt\n",
        "import numpy as np\n",
        "import pandas as pd\n",
        "import zipfile\n",
        "import os\n",
        "import random"
      ],
      "metadata": {
        "id": "CX80mgjajqPU"
      },
      "execution_count": null,
      "outputs": []
    },
    {
      "cell_type": "code",
      "source": [
        "!pip install -q kaggle"
      ],
      "metadata": {
        "id": "s9sdBpTAj1Wu"
      },
      "execution_count": null,
      "outputs": []
    },
    {
      "cell_type": "code",
      "source": [
        "from google.colab import files\n",
        "files.upload()"
      ],
      "metadata": {
        "id": "sHvOsr9tkFRR"
      },
      "execution_count": null,
      "outputs": []
    },
    {
      "cell_type": "code",
      "source": [
        "!mkdir ~/.kaggle"
      ],
      "metadata": {
        "id": "DwwiYkHIkPdn"
      },
      "execution_count": null,
      "outputs": []
    },
    {
      "cell_type": "code",
      "source": [
        "!cp kaggle.json ~/.kaggle\n",
        "!chmod 600 ~/.kaggle/kaggle.json"
      ],
      "metadata": {
        "id": "2FV_NxzskTPi"
      },
      "execution_count": null,
      "outputs": []
    },
    {
      "cell_type": "code",
      "source": [
        "!kaggle datasets list -s \"song lyrics\""
      ],
      "metadata": {
        "id": "6l41_8qPkaXB",
        "colab": {
          "base_uri": "https://localhost:8080/"
        },
        "outputId": "0c19c0cf-d49c-4835-9b12-f22bfbad13f2"
      },
      "execution_count": null,
      "outputs": [
        {
          "output_type": "stream",
          "name": "stdout",
          "text": [
            "ref                                                                  title                                               size  lastUpdated          downloadCount  voteCount  usabilityRating  \n",
            "-------------------------------------------------------------------  -------------------------------------------------  -----  -------------------  -------------  ---------  ---------------  \n",
            "paultimothymooney/poetry                                             Song Lyrics                                          2MB  2018-08-18 18:47:12           7535         89  0.875            \n",
            "deepshah16/song-lyrics-dataset                                       Song Lyrics Dataset                                 20MB  2021-02-08 00:18:43           4868         49  0.8235294        \n",
            "carlosgdcj/genius-song-lyrics-with-language-information              Genius Song Lyrics                                   3GB  2023-01-11 19:52:10           3275         67  0.8235294        \n",
            "neisse/scrapped-lyrics-from-6-genres                                 Song lyrics from 79 musical genres                 129MB  2022-03-17 14:10:24           9945        128  1.0              \n",
            "thespacefreak/taylor-swift-song-lyrics-all-albums                    Taylor Swift Song Lyrics (All Albums)              124KB  2021-11-06 15:23:46           2464         51  1.0              \n",
            "shakirulhasan/bangla-song-lyrics                                     Bangla Song Lyrics                                   1MB  2020-07-19 07:29:08            259         16  1.0              \n",
            "PromptCloudHQ/taylor-swift-song-lyrics-from-all-the-albums           Taylor Swift Song Lyrics from all the albums        69KB  2018-07-20 06:42:19           4840         96  1.0              \n",
            "albertsuarez/azlyrics                                                AZLyrics song lyrics                                61MB  2020-05-14 15:11:37           1434         36  0.9411765        \n",
            "notshrirang/spotify-million-song-dataset                             Spotify Million Song Dataset                        21MB  2022-11-21 16:48:45          11382        106  1.0              \n",
            "brianblakely/top-100-songs-and-lyrics-from-1959-to-2019              Top 100 Songs & Lyrics By Year 1959 - 2023 (USA)    24MB  2024-04-28 18:59:05           1772         45  1.0              \n",
            "suraj520/music-dataset-song-information-and-lyrics                   Music Dataset: Song Information and Lyrics           2MB  2023-05-22 22:50:44           1795         56  1.0              \n",
            "sshikamaru/music-genre-classification                                Music Genre Classification                         929KB  2022-07-02 03:49:15           1175         36  0.9411765        \n",
            "stefancomanita/top-us-songs-from-1950-to-2019-w-lyrics               Top US Songs from 1950 to 2019, w. lyrics          372KB  2023-12-25 22:29:13            867         32  1.0              \n",
            "juicobowley/drake-lyrics                                             Drake Lyrics                                       764KB  2020-11-27 01:00:52           3325         71  1.0              \n",
            "emreokcular/turkish-song-lyrics                                      Turkish Song Lyrics                                  1MB  2021-12-15 19:27:31            175          8  0.88235295       \n",
            "yeoyunsianggeremie/song-lyrics-from-jay-chous-greatest-works-of-art  Song Lyrics from Jay Chou's Greatest Works Of Art    8KB  2023-07-27 12:54:43            123         29  1.0              \n",
            "karnikakapoor/lyrics                                                 Lyrics                                             308KB  2021-08-16 13:19:26            756         53  1.0              \n",
            "markkorvin/large-metal-lyrics-archive-228k-songs                     Large Metal Lyrics Archive (228K songs)             63MB  2022-03-23 19:22:13            431         15  1.0              \n",
            "elizzyliu/song-lyrics                                                Song Lyrics                                          5MB  2022-04-17 01:01:37            228          4  0.64705884       \n",
            "imuhammad/audio-features-and-lyrics-of-spotify-songs                 Audio features and lyrics of Spotify songs          12MB  2020-06-14 09:02:27           1696         29  0.47058824       \n"
          ]
        }
      ]
    },
    {
      "cell_type": "code",
      "source": [
        "!kaggle datasets download -d \"paultimothymooney/poetry\""
      ],
      "metadata": {
        "id": "dmUt9LWFkl1_",
        "colab": {
          "base_uri": "https://localhost:8080/"
        },
        "outputId": "c063c45a-54ab-41ee-a688-f37693c11270"
      },
      "execution_count": null,
      "outputs": [
        {
          "output_type": "stream",
          "name": "stdout",
          "text": [
            "Dataset URL: https://www.kaggle.com/datasets/paultimothymooney/poetry\n",
            "License(s): CC0-1.0\n",
            "Downloading poetry.zip to /content\n",
            "  0% 0.00/2.00M [00:00<?, ?B/s]\n",
            "100% 2.00M/2.00M [00:00<00:00, 57.6MB/s]\n"
          ]
        }
      ]
    },
    {
      "cell_type": "code",
      "source": [
        "zip_ref = zipfile.ZipFile(\"/content/poetry.zip\")\n",
        "zip_ref.extractall()\n",
        "zip_ref.close()"
      ],
      "metadata": {
        "id": "mu1SJ3d6ksMz"
      },
      "execution_count": null,
      "outputs": []
    },
    {
      "cell_type": "code",
      "source": [
        "with open(\"/content/nirvana.txt\",\"r\") as f:\n",
        "  text = f.read()"
      ],
      "metadata": {
        "id": "54A-fy4Ok_EZ"
      },
      "execution_count": null,
      "outputs": []
    },
    {
      "cell_type": "code",
      "source": [
        "vocab = sorted(set(text))\n",
        "vocab_size = len(vocab)\n",
        "vocab_size"
      ],
      "metadata": {
        "id": "o-InwTZQlK7g",
        "colab": {
          "base_uri": "https://localhost:8080/"
        },
        "outputId": "3b603bfc-24ae-4494-9b3d-48a1755ba49e"
      },
      "execution_count": null,
      "outputs": [
        {
          "output_type": "execute_result",
          "data": {
            "text/plain": [
              "73"
            ]
          },
          "metadata": {},
          "execution_count": 10
        }
      ]
    },
    {
      "cell_type": "code",
      "source": [
        "word_to_index = {}\n",
        "for k,v in enumerate(vocab):\n",
        "  word_to_index[v] = k\n",
        "\n",
        "word_to_index"
      ],
      "metadata": {
        "id": "Fom82_iLlgGS",
        "colab": {
          "base_uri": "https://localhost:8080/"
        },
        "outputId": "5ae54b40-a4d9-49c6-a658-07cefd78337e"
      },
      "execution_count": null,
      "outputs": [
        {
          "output_type": "execute_result",
          "data": {
            "text/plain": [
              "{'\\n': 0,\n",
              " ' ': 1,\n",
              " '!': 2,\n",
              " '\"': 3,\n",
              " \"'\": 4,\n",
              " '(': 5,\n",
              " ')': 6,\n",
              " ',': 7,\n",
              " '-': 8,\n",
              " '.': 9,\n",
              " '/': 10,\n",
              " '0': 11,\n",
              " '1': 12,\n",
              " '2': 13,\n",
              " '4': 14,\n",
              " '6': 15,\n",
              " '7': 16,\n",
              " '8': 17,\n",
              " ':': 18,\n",
              " ';': 19,\n",
              " '?': 20,\n",
              " 'A': 21,\n",
              " 'B': 22,\n",
              " 'C': 23,\n",
              " 'D': 24,\n",
              " 'E': 25,\n",
              " 'F': 26,\n",
              " 'G': 27,\n",
              " 'H': 28,\n",
              " 'I': 29,\n",
              " 'J': 30,\n",
              " 'K': 31,\n",
              " 'L': 32,\n",
              " 'M': 33,\n",
              " 'N': 34,\n",
              " 'O': 35,\n",
              " 'P': 36,\n",
              " 'Q': 37,\n",
              " 'R': 38,\n",
              " 'S': 39,\n",
              " 'T': 40,\n",
              " 'U': 41,\n",
              " 'V': 42,\n",
              " 'W': 43,\n",
              " 'Y': 44,\n",
              " '[': 45,\n",
              " ']': 46,\n",
              " 'a': 47,\n",
              " 'b': 48,\n",
              " 'c': 49,\n",
              " 'd': 50,\n",
              " 'e': 51,\n",
              " 'f': 52,\n",
              " 'g': 53,\n",
              " 'h': 54,\n",
              " 'i': 55,\n",
              " 'j': 56,\n",
              " 'k': 57,\n",
              " 'l': 58,\n",
              " 'm': 59,\n",
              " 'n': 60,\n",
              " 'o': 61,\n",
              " 'p': 62,\n",
              " 'q': 63,\n",
              " 'r': 64,\n",
              " 's': 65,\n",
              " 't': 66,\n",
              " 'u': 67,\n",
              " 'v': 68,\n",
              " 'w': 69,\n",
              " 'x': 70,\n",
              " 'y': 71,\n",
              " 'z': 72}"
            ]
          },
          "metadata": {},
          "execution_count": 11
        }
      ]
    },
    {
      "cell_type": "code",
      "source": [
        "index_to_word = {}\n",
        "for k,v in enumerate(vocab):\n",
        "  index_to_word[k] = v\n",
        "index_to_word"
      ],
      "metadata": {
        "id": "lUh8H-xFlsbo",
        "colab": {
          "base_uri": "https://localhost:8080/"
        },
        "outputId": "5f4076de-2faa-49f9-daf6-eafd35615698"
      },
      "execution_count": null,
      "outputs": [
        {
          "output_type": "execute_result",
          "data": {
            "text/plain": [
              "{0: '\\n',\n",
              " 1: ' ',\n",
              " 2: '!',\n",
              " 3: '\"',\n",
              " 4: \"'\",\n",
              " 5: '(',\n",
              " 6: ')',\n",
              " 7: ',',\n",
              " 8: '-',\n",
              " 9: '.',\n",
              " 10: '/',\n",
              " 11: '0',\n",
              " 12: '1',\n",
              " 13: '2',\n",
              " 14: '4',\n",
              " 15: '6',\n",
              " 16: '7',\n",
              " 17: '8',\n",
              " 18: ':',\n",
              " 19: ';',\n",
              " 20: '?',\n",
              " 21: 'A',\n",
              " 22: 'B',\n",
              " 23: 'C',\n",
              " 24: 'D',\n",
              " 25: 'E',\n",
              " 26: 'F',\n",
              " 27: 'G',\n",
              " 28: 'H',\n",
              " 29: 'I',\n",
              " 30: 'J',\n",
              " 31: 'K',\n",
              " 32: 'L',\n",
              " 33: 'M',\n",
              " 34: 'N',\n",
              " 35: 'O',\n",
              " 36: 'P',\n",
              " 37: 'Q',\n",
              " 38: 'R',\n",
              " 39: 'S',\n",
              " 40: 'T',\n",
              " 41: 'U',\n",
              " 42: 'V',\n",
              " 43: 'W',\n",
              " 44: 'Y',\n",
              " 45: '[',\n",
              " 46: ']',\n",
              " 47: 'a',\n",
              " 48: 'b',\n",
              " 49: 'c',\n",
              " 50: 'd',\n",
              " 51: 'e',\n",
              " 52: 'f',\n",
              " 53: 'g',\n",
              " 54: 'h',\n",
              " 55: 'i',\n",
              " 56: 'j',\n",
              " 57: 'k',\n",
              " 58: 'l',\n",
              " 59: 'm',\n",
              " 60: 'n',\n",
              " 61: 'o',\n",
              " 62: 'p',\n",
              " 63: 'q',\n",
              " 64: 'r',\n",
              " 65: 's',\n",
              " 66: 't',\n",
              " 67: 'u',\n",
              " 68: 'v',\n",
              " 69: 'w',\n",
              " 70: 'x',\n",
              " 71: 'y',\n",
              " 72: 'z'}"
            ]
          },
          "metadata": {},
          "execution_count": 12
        }
      ]
    },
    {
      "cell_type": "code",
      "source": [
        "dataset = tf.data.Dataset.from_tensor_slices([word_to_index[i] for i in text]).batch(101,drop_remainder = True)"
      ],
      "metadata": {
        "id": "dB3uMeCxmRYQ"
      },
      "execution_count": null,
      "outputs": []
    },
    {
      "cell_type": "code",
      "source": [
        "for i in dataset.take(1):\n",
        "  print(i)"
      ],
      "metadata": {
        "id": "1Lj02HPHnlW6",
        "colab": {
          "base_uri": "https://localhost:8080/"
        },
        "outputId": "562134cc-5c20-4d96-bd63-779ab07db118"
      },
      "execution_count": null,
      "outputs": [
        {
          "output_type": "stream",
          "name": "stdout",
          "text": [
            "tf.Tensor(\n",
            "[32 61 47 50  1 67 62  1 61 60  1 53 67 60 65  7  1 48 64 55 60 53  1 71\n",
            " 61 67 64  1 52 64 55 51 60 50 65  0 29 66  4 65  1 52 67 60  1 66 61  1\n",
            " 58 61 65 51  1 47 60 50  1 66 61  1 62 64 51 66 51 60 50  0 39 54 51  4\n",
            " 65  1 61 68 51 64  8 48 61 64 51 50  1 47 60 50  1 65 51 58 52  8 47 65\n",
            " 65 67 64 51 50], shape=(101,), dtype=int32)\n"
          ]
        }
      ]
    },
    {
      "cell_type": "code",
      "source": [
        "def split(data):\n",
        "  input = data[:-1]\n",
        "  output = data[1:]\n",
        "  return input,output"
      ],
      "metadata": {
        "id": "cXFDi4yWnqYh"
      },
      "execution_count": null,
      "outputs": []
    },
    {
      "cell_type": "code",
      "source": [
        "split_dataset = dataset.map(split)"
      ],
      "metadata": {
        "id": "LOIfg_VnnxUo"
      },
      "execution_count": null,
      "outputs": []
    },
    {
      "cell_type": "code",
      "source": [
        "split_dataset"
      ],
      "metadata": {
        "id": "gWUfBG3Tn22C",
        "colab": {
          "base_uri": "https://localhost:8080/"
        },
        "outputId": "a9cfb3bb-09f0-4168-b389-1af5847ff4eb"
      },
      "execution_count": null,
      "outputs": [
        {
          "output_type": "execute_result",
          "data": {
            "text/plain": [
              "<_MapDataset element_spec=(TensorSpec(shape=(100,), dtype=tf.int32, name=None), TensorSpec(shape=(100,), dtype=tf.int32, name=None))>"
            ]
          },
          "metadata": {},
          "execution_count": 17
        }
      ]
    },
    {
      "cell_type": "code",
      "source": [
        "big_dataset = split_dataset.batch(64,drop_remainder= True)"
      ],
      "metadata": {
        "id": "SN_N8nC-n8Hh"
      },
      "execution_count": null,
      "outputs": []
    },
    {
      "cell_type": "code",
      "source": [
        "big_dataset"
      ],
      "metadata": {
        "id": "9tXbkbZRoDPM",
        "colab": {
          "base_uri": "https://localhost:8080/"
        },
        "outputId": "e16f4738-1feb-41cc-8e67-d23124d28a1f"
      },
      "execution_count": null,
      "outputs": [
        {
          "output_type": "execute_result",
          "data": {
            "text/plain": [
              "<_BatchDataset element_spec=(TensorSpec(shape=(64, 100), dtype=tf.int32, name=None), TensorSpec(shape=(64, 100), dtype=tf.int32, name=None))>"
            ]
          },
          "metadata": {},
          "execution_count": 19
        }
      ]
    },
    {
      "cell_type": "code",
      "source": [
        "class Model(tf.keras.Model):\n",
        "  def __init__(self):\n",
        "    super().__init__()\n",
        "    self.embedding = tf.keras.layers.Embedding(input_dim = vocab_size,\n",
        "                                               output_dim = 256\n",
        "                                               )\n",
        "    self.gru = tf.keras.layers.GRU(1024,return_sequences=True,return_state = True)\n",
        "    self.dense_ = tf.keras.layers.Dense(128,activation = \"relu\")\n",
        "    self.dense = tf.keras.layers.Dense(vocab_size)\n",
        "\n",
        "  def call(self,input,state =None,return_state =False):\n",
        "    x = self.embedding(input)\n",
        "    x,state = self.gru(x,initial_state = state)\n",
        "    x =self.dense_(x)\n",
        "    x = self.dense(x)\n",
        "    if return_state:\n",
        "      return x,state\n",
        "    else:\n",
        "      return x"
      ],
      "metadata": {
        "id": "6U50AiuhoFwm"
      },
      "execution_count": null,
      "outputs": []
    },
    {
      "cell_type": "code",
      "source": [
        "model_0 = Model()\n",
        "model_0.compile(loss = tf.keras.losses.SparseCategoricalCrossentropy(from_logits = True),\n",
        "              optimizer = \"adam\"\n",
        "              ,metrics = [\"accuracy\"]\n",
        "              )\n",
        "his = model_0.fit(big_dataset,\n",
        "                epochs = 40\n",
        "                )"
      ],
      "metadata": {
        "id": "dcH6rJxyo6uq",
        "colab": {
          "base_uri": "https://localhost:8080/"
        },
        "outputId": "9367f171-bbb4-4d69-bbc0-803aeaba786b"
      },
      "execution_count": null,
      "outputs": [
        {
          "output_type": "stream",
          "name": "stdout",
          "text": [
            "Epoch 1/40\n",
            "9/9 [==============================] - 5s 279ms/step - loss: 4.3024 - accuracy: 0.1625\n",
            "Epoch 2/40\n",
            "9/9 [==============================] - 1s 94ms/step - loss: 4.1235 - accuracy: 0.2208\n",
            "Epoch 3/40\n",
            "9/9 [==============================] - 1s 60ms/step - loss: 3.7172 - accuracy: 0.2155\n",
            "Epoch 4/40\n",
            "9/9 [==============================] - 1s 61ms/step - loss: 3.1663 - accuracy: 0.1911\n",
            "Epoch 5/40\n",
            "9/9 [==============================] - 1s 58ms/step - loss: 3.0167 - accuracy: 0.2101\n",
            "Epoch 6/40\n",
            "9/9 [==============================] - 1s 57ms/step - loss: 2.8759 - accuracy: 0.2437\n",
            "Epoch 7/40\n",
            "9/9 [==============================] - 1s 58ms/step - loss: 2.7353 - accuracy: 0.2705\n",
            "Epoch 8/40\n",
            "9/9 [==============================] - 1s 57ms/step - loss: 2.6103 - accuracy: 0.2949\n",
            "Epoch 9/40\n",
            "9/9 [==============================] - 1s 58ms/step - loss: 2.5143 - accuracy: 0.3044\n",
            "Epoch 10/40\n",
            "9/9 [==============================] - 1s 59ms/step - loss: 2.4479 - accuracy: 0.3088\n",
            "Epoch 11/40\n",
            "9/9 [==============================] - 1s 58ms/step - loss: 2.3940 - accuracy: 0.3137\n",
            "Epoch 12/40\n",
            "9/9 [==============================] - 1s 58ms/step - loss: 2.3485 - accuracy: 0.3244\n",
            "Epoch 13/40\n",
            "9/9 [==============================] - 1s 57ms/step - loss: 2.3071 - accuracy: 0.3292\n",
            "Epoch 14/40\n",
            "9/9 [==============================] - 1s 57ms/step - loss: 2.2676 - accuracy: 0.3381\n",
            "Epoch 15/40\n",
            "9/9 [==============================] - 1s 57ms/step - loss: 2.2297 - accuracy: 0.3514\n",
            "Epoch 16/40\n",
            "9/9 [==============================] - 1s 58ms/step - loss: 2.1926 - accuracy: 0.3601\n",
            "Epoch 17/40\n",
            "9/9 [==============================] - 1s 59ms/step - loss: 2.1570 - accuracy: 0.3681\n",
            "Epoch 18/40\n",
            "9/9 [==============================] - 1s 59ms/step - loss: 2.1227 - accuracy: 0.3754\n",
            "Epoch 19/40\n",
            "9/9 [==============================] - 1s 57ms/step - loss: 2.0889 - accuracy: 0.3828\n",
            "Epoch 20/40\n",
            "9/9 [==============================] - 1s 58ms/step - loss: 2.0553 - accuracy: 0.3916\n",
            "Epoch 21/40\n",
            "9/9 [==============================] - 1s 61ms/step - loss: 2.0216 - accuracy: 0.4001\n",
            "Epoch 22/40\n",
            "9/9 [==============================] - 1s 62ms/step - loss: 1.9886 - accuracy: 0.4094\n",
            "Epoch 23/40\n",
            "9/9 [==============================] - 1s 62ms/step - loss: 1.9545 - accuracy: 0.4194\n",
            "Epoch 24/40\n",
            "9/9 [==============================] - 1s 61ms/step - loss: 1.9194 - accuracy: 0.4297\n",
            "Epoch 25/40\n",
            "9/9 [==============================] - 1s 58ms/step - loss: 1.8840 - accuracy: 0.4398\n",
            "Epoch 26/40\n",
            "9/9 [==============================] - 1s 58ms/step - loss: 1.8474 - accuracy: 0.4495\n",
            "Epoch 27/40\n",
            "9/9 [==============================] - 1s 58ms/step - loss: 1.8093 - accuracy: 0.4616\n",
            "Epoch 28/40\n",
            "9/9 [==============================] - 1s 58ms/step - loss: 1.7699 - accuracy: 0.4720\n",
            "Epoch 29/40\n",
            "9/9 [==============================] - 1s 60ms/step - loss: 1.7288 - accuracy: 0.4871\n",
            "Epoch 30/40\n",
            "9/9 [==============================] - 1s 59ms/step - loss: 1.6856 - accuracy: 0.5028\n",
            "Epoch 31/40\n",
            "9/9 [==============================] - 1s 56ms/step - loss: 1.6414 - accuracy: 0.5194\n",
            "Epoch 32/40\n",
            "9/9 [==============================] - 1s 60ms/step - loss: 1.5967 - accuracy: 0.5349\n",
            "Epoch 33/40\n",
            "9/9 [==============================] - 1s 59ms/step - loss: 1.5512 - accuracy: 0.5490\n",
            "Epoch 34/40\n",
            "9/9 [==============================] - 1s 58ms/step - loss: 1.5059 - accuracy: 0.5635\n",
            "Epoch 35/40\n",
            "9/9 [==============================] - 1s 59ms/step - loss: 1.4600 - accuracy: 0.5773\n",
            "Epoch 36/40\n",
            "9/9 [==============================] - 1s 59ms/step - loss: 1.4174 - accuracy: 0.5911\n",
            "Epoch 37/40\n",
            "9/9 [==============================] - 1s 59ms/step - loss: 1.3817 - accuracy: 0.6009\n",
            "Epoch 38/40\n",
            "9/9 [==============================] - 1s 59ms/step - loss: 1.3664 - accuracy: 0.6036\n",
            "Epoch 39/40\n",
            "9/9 [==============================] - 1s 59ms/step - loss: 1.3455 - accuracy: 0.6105\n",
            "Epoch 40/40\n",
            "9/9 [==============================] - 1s 60ms/step - loss: 1.3254 - accuracy: 0.6151\n"
          ]
        }
      ]
    },
    {
      "cell_type": "code",
      "source": [
        "def generate_text(model,input,temp=.2):\n",
        "  state= None\n",
        "  input_id =  [word_to_index[i] for i in input]\n",
        "  input_id = tf.expand_dims(input_id,axis=0)\n",
        "  gen_list = []\n",
        "  for i in range(500):\n",
        "    pred,state = model(input_id,state = state,return_state = True)\n",
        "    pred_sq = tf.squeeze(pred,axis=0)\n",
        "    pred_tem = pred_sq/temp\n",
        "    pred_id = tf.random.categorical(pred_tem,num_samples = 1)[-1]\n",
        "    input_id = tf.expand_dims(pred_id,axis=0)\n",
        "    gen_list.append(pred_id[0].numpy())\n",
        "  return input + \"\".join([index_to_word[i] for i in gen_list])"
      ],
      "metadata": {
        "id": "c4qlVtcWp-yi"
      },
      "execution_count": null,
      "outputs": []
    },
    {
      "cell_type": "code",
      "source": [
        "generate_text(model_0,input = \"save\").splitlines()"
      ],
      "metadata": {
        "id": "aK-NJhfyrG9-",
        "colab": {
          "base_uri": "https://localhost:8080/"
        },
        "outputId": "693729e5-69ea-49e8-d47c-f6f19179d712"
      },
      "execution_count": null,
      "outputs": [
        {
          "output_type": "execute_result",
          "data": {
            "text/plain": [
              "['saver and the way',\n",
              " \"When I'm the way\",\n",
              " \"The sun I like me Don't expect me to cry\",\n",
              " \"Don't expect me to cry\",\n",
              " 'Tould have a gun',\n",
              " \"No I don't have a gun\",\n",
              " \"No I don't have to hear and driends\",\n",
              " 'And I was to keat my likes to hear and driend',\n",
              " \"I'm ashamed the way\",\n",
              " 'The sun she should have to be a shame the way',\n",
              " 'The sun she sun she sun she she she she she she she she she plated the way',\n",
              " \"When I'm the rat\",\n",
              " 'Return of the rat',\n",
              " 'Return of the rat',\n",
              " 'Return of the rat',\n",
              " 'Return of the rat',\n",
              " 'Return of the rat',\n",
              " 'Return of the rat',\n",
              " 'Return of the rat']"
            ]
          },
          "metadata": {},
          "execution_count": 74
        }
      ]
    }
  ],
  "metadata": {
    "colab": {
      "provenance": [],
      "authorship_tag": "ABX9TyOtbW1VWVXK0y9NnqTJ3gAG",
      "include_colab_link": true
    },
    "kernelspec": {
      "display_name": "Python 3",
      "name": "python3"
    },
    "language_info": {
      "name": "python"
    }
  },
  "nbformat": 4,
  "nbformat_minor": 0
}